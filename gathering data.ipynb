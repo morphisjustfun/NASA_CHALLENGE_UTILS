{
 "cells": [
  {
   "cell_type": "code",
   "execution_count": 2,
   "id": "508b30f7-ab85-4683-a112-85c71c21a6d6",
   "metadata": {},
   "outputs": [],
   "source": [
    "import http.client"
   ]
  },
  {
   "cell_type": "code",
   "execution_count": 4,
   "id": "73897efa-bb07-4c92-a193-ae90ae39ec35",
   "metadata": {},
   "outputs": [
    {
     "name": "stdout",
     "output_type": "stream",
     "text": [
      "[{\"n_week\":36,\"regions\":[{\"id\":5513,\"fechaCreacion\":\"13-09-2021 02:49:31\",\"fecha\":\"06-09-2021 12:00:00\",\"nweek\":36,\"region\":\"AMAZONAS\",\"avgTest\":213.53,\"incid_100\":13.32,\"positividad\":6.39,\"uci\":26.32,\"fall_100\":2.11,\"rt\":0.44,\"fallScore\":2.0,\"uciScore\":1.0,\"incidScore\":1.0,\"rtScore\":1.0,\"positScore\":1.0,\"poblacion\":472993.0,\"testScore\":4.0,\"score\":1.0,\"valScore\":21.0,\"camasCovid\":9.09},{\"id\":5515,\"fechaCreacion\":\"13-09-2021 02:49:31\",\"fecha\":\"06-09-2021 12:00:00\",\"nweek\":36,\"region\":\"ANCASH\",\"avgTest\":514.42,\"incid_100\":13.96,\"positividad\":2.73,\"uci\":68.33,\"fall_100\":0.48,\"rt\":0.78,\"fallScore\":1.0,\"uciScore\":1.0,\"incidScore\":1.0,\"rtScore\":2.0,\"positScore\":1.0,\"poblacion\":1246249.0,\"testScore\":2.0,\"score\":1.0,\"valScore\":17.0,\"camasCovid\":16.51},{\"id\":5517,\"fechaCreacion\":\"13-09-2021 02:49:31\",\"fecha\":\"06-09-2021 12:00:00\",\"nweek\":36,\"region\":\"APURIMAC\",\"avgTest\":272.86,\"incid_100\":9.56,\"positividad\":3.42,\"uci\":20.51,\"fall_100\":1.3,\"rt\":0.42,\"fallScore\":1.0,\"uciScore\":1.0,\"incidScore\":1.0,\"rtScore\":1.0,\"positScore\":1.0,\"poblacion\":460316.0,\"testScore\":3.0,\"score\":1.0,\"valScore\":16.0,\"camasCovid\":6.81},{\"id\":5519,\"fechaCreacion\":\"13-09-2021 02:49:31\",\"fecha\":\"06-09-2021 12:00:00\",\"nweek\":36,\"region\":\"AREQUIPA\",\"avgTest\":1463.65,\"incid_100\":17.22,\"positividad\":1.19,\"uci\":92.22,\"fall_100\":0.84,\"rt\":0.43,\"fallScore\":1.0,\"uciScore\":3.0,\"incidScore\":1.0,\"rtScore\":1.0,\"positScore\":1.0,\"poblacion\":1556246.0,\"testScore\":1.0,\"score\":1.0,\"valScore\":20.0,\"camasCovid\":42.51},{\"id\":5521,\"fechaCreacion\":\"13-09-2021 02:49:31\",\"fecha\":\"06-09-2021 12:00:00\",\"nweek\":36,\"region\":\"AYACUCHO\",\"avgTest\":306.79,\"incid_100\":25.65,\"positividad\":8.78,\"uci\":55.0,\"fall_100\":0.87,\"rt\":0.81,\"fallScore\":1.0,\"uciScore\":1.0,\"incidScore\":1.0,\"rtScore\":2.0,\"positScore\":1.0,\"poblacion\":690053.0,\"testScore\":3.0,\"score\":1.0,\"valScore\":18.0,\"camasCovid\":10.53},{\"id\":5523,\"fechaCreacion\":\"13-09-2021 02:49:31\",\"fecha\":\"06-09-2021 12:00:00\",\"nweek\":36,\"region\":\"CAJAMARCA\",\"avgTest\":420.39,\"incid_100\":10.54,\"positividad\":2.52,\"uci\":17.46,\"fall_100\":0.44,\"rt\":0.58,\"fallScore\":1.0,\"uciScore\":1.0,\"incidScore\":1.0,\"rtScore\":1.0,\"positScore\":1.0,\"poblacion\":1603521.0,\"testScore\":2.0,\"score\":1.0,\"valScore\":15.0,\"camasCovid\":3.46},{\"id\":5525,\"fechaCreacion\":\"13-09-2021 02:49:31\",\"fecha\":\"06-09-2021 12:00:00\",\"nweek\":36,\"region\":\"CALLAO\",\"avgTest\":500.46,\"incid_100\":18.9,\"positividad\":3.76,\"uci\":75.63,\"fall_100\":0.61,\"rt\":1.01,\"fallScore\":1.0,\"uciScore\":2.0,\"incidScore\":1.0,\"rtScore\":2.0,\"positScore\":1.0,\"poblacion\":1147951.0,\"testScore\":2.0,\"score\":1.0,\"valScore\":20.0,\"camasCovid\":64.27},{\"id\":5527,\"fechaCreacion\":\"13-09-2021 02:49:31\",\"fecha\":\"06-09-2021 12:00:00\",\"nweek\":36,\"region\":\"CUSCO\",\"avgTest\":554.91,\"incid_100\":18.48,\"positividad\":3.32,\"uci\":78.43,\"fall_100\":0.82,\"rt\":0.93,\"fallScore\":1.0,\"uciScore\":2.0,\"incidScore\":1.0,\"rtScore\":2.0,\"positScore\":1.0,\"poblacion\":1460963.0,\"testScore\":2.0,\"score\":1.0,\"valScore\":20.0,\"camasCovid\":20.34},{\"id\":5529,\"fechaCreacion\":\"13-09-2021 02:49:31\",\"fecha\":\"06-09-2021 12:00:00\",\"nweek\":36,\"region\":\"HUANCAVELICA\",\"avgTest\":320.35,\"incid_100\":4.37,\"positividad\":1.28,\"uci\":0.0,\"fall_100\":1.84,\"rt\":0.51,\"fallScore\":1.0,\"uciScore\":1.0,\"incidScore\":1.0,\"rtScore\":1.0,\"positScore\":1.0,\"poblacion\":435152.0,\"testScore\":3.0,\"score\":1.0,\"valScore\":16.0,\"camasCovid\":5.88},{\"id\":5531,\"fechaCreacion\":\"13-09-2021 02:49:31\",\"fecha\":\"06-09-2021 12:00:00\",\"nweek\":36,\"region\":\"HUANUCO\",\"avgTest\":308.84,\"incid_100\":13.05,\"positividad\":4.22,\"uci\":65.22,\"fall_100\":0.69,\"rt\":0.81,\"fallScore\":1.0,\"uciScore\":1.0,\"incidScore\":1.0,\"rtScore\":2.0,\"positScore\":1.0,\"poblacion\":865820.0,\"testScore\":3.0,\"score\":1.0,\"valScore\":18.0,\"camasCovid\":23.66},{\"id\":5533,\"fechaCreacion\":\"13-09-2021 02:49:31\",\"fecha\":\"06-09-2021 12:00:00\",\"nweek\":36,\"region\":\"ICA\",\"avgTest\":416.94,\"incid_100\":16.84,\"positividad\":4.04,\"uci\":58.82,\"fall_100\":1.49,\"rt\":0.55,\"fallScore\":1.0,\"uciScore\":1.0,\"incidScore\":1.0,\"rtScore\":1.0,\"positScore\":1.0,\"poblacion\":938259.0,\"testScore\":3.0,\"score\":1.0,\"valScore\":16.0,\"camasCovid\":11.02},{\"id\":5535,\"fechaCreacion\":\"13-09-2021 02:49:31\",\"fecha\":\"06-09-2021 12:00:00\",\"nweek\":36,\"region\":\"JUNIN\",\"avgTest\":771.19,\"incid_100\":28.26,\"positividad\":3.67,\"uci\":20.51,\"fall_100\":0.78,\"rt\":0.76,\"fallScore\":1.0,\"uciScore\":1.0,\"incidScore\":1.0,\"rtScore\":2.0,\"positScore\":1.0,\"poblacion\":1408222.0,\"testScore\":1.0,\"score\":1.0,\"valScore\":16.0,\"camasCovid\":11.28},{\"id\":5537,\"fechaCreacion\":\"13-09-2021 02:49:31\",\"fecha\":\"06-09-2021 12:00:00\",\"nweek\":36,\"region\":\"LA LIBERTAD\",\"avgTest\":407.37,\"incid_100\":11.39,\"positividad\":2.8,\"uci\":52.63,\"fall_100\":0.58,\"rt\":0.95,\"fallScore\":1.0,\"uciScore\":1.0,\"incidScore\":1.0,\"rtScore\":2.0,\"positScore\":1.0,\"poblacion\":2054619.0,\"testScore\":3.0,\"score\":1.0,\"valScore\":18.0,\"camasCovid\":13.68},{\"id\":5539,\"fechaCreacion\":\"13-09-2021 02:49:31\",\"fecha\":\"06-09-2021 12:00:00\",\"nweek\":36,\"region\":\"LAMBAYEQUE\",\"avgTest\":319.78,\"incid_100\":10.34,\"positividad\":3.54,\"uci\":50.0,\"fall_100\":0.57,\"rt\":0.41,\"fallScore\":1.0,\"uciScore\":1.0,\"incidScore\":1.0,\"rtScore\":1.0,\"positScore\":1.0,\"poblacion\":1393148.0,\"testScore\":3.0,\"score\":1.0,\"valScore\":16.0,\"camasCovid\":55.25},{\"id\":5541,\"fechaCreacion\":\"13-09-2021 02:49:31\",\"fecha\":\"06-09-2021 12:00:00\",\"nweek\":36,\"region\":\"LIMA METROPOLITANA\",\"avgTest\":1059.42,\"incid_100\":19.34,\"positividad\":1.83,\"uci\":54.9,\"fall_100\":0.47,\"rt\":0.9,\"fallScore\":1.0,\"uciScore\":1.0,\"incidScore\":1.0,\"rtScore\":2.0,\"positScore\":1.0,\"poblacion\":1.0204814E7,\"testScore\":1.0,\"score\":1.0,\"valScore\":16.0,\"camasCovid\":45.76},{\"id\":5543,\"fechaCreacion\":\"13-09-2021 02:49:31\",\"fecha\":\"06-09-2021 12:00:00\",\"nweek\":36,\"region\":\"LIMA REGION\",\"avgTest\":663.95,\"incid_100\":8.52,\"positividad\":1.26,\"uci\":48.98,\"fall_100\":0.57,\"rt\":0.75,\"fallScore\":1.0,\"uciScore\":1.0,\"incidScore\":1.0,\"rtScore\":2.0,\"positScore\":1.0,\"poblacion\":1056253.0,\"testScore\":2.0,\"score\":1.0,\"valScore\":17.0,\"camasCovid\":8.9},{\"id\":5545,\"fechaCreacion\":\"13-09-2021 02:49:31\",\"fecha\":\"06-09-2021 12:00:00\",\"nweek\":36,\"region\":\"LORETO\",\"avgTest\":234.94,\"incid_100\":1.47,\"positividad\":0.6,\"uci\":20.0,\"fall_100\":1.04,\"rt\":0.22,\"fallScore\":1.0,\"uciScore\":1.0,\"incidScore\":1.0,\"rtScore\":1.0,\"positScore\":1.0,\"poblacion\":1154766.0,\"testScore\":4.0,\"score\":1.0,\"valScore\":17.0,\"camasCovid\":23.15},{\"id\":5547,\"fechaCreacion\":\"13-09-2021 02:49:31\",\"fecha\":\"06-09-2021 12:00:00\",\"nweek\":36,\"region\":\"MADRE DE DIOS\",\"avgTest\":270.88,\"incid_100\":10.14,\"positividad\":4.35,\"uci\":26.92,\"fall_100\":3.38,\"rt\":0.36,\"fallScore\":2.0,\"uciScore\":1.0,\"incidScore\":1.0,\"rtScore\":1.0,\"positScore\":1.0,\"poblacion\":177571.0,\"testScore\":3.0,\"score\":1.0,\"valScore\":20.0,\"camasCovid\":5.13},{\"id\":5549,\"fechaCreacion\":\"13-09-2021 02:49:31\",\"fecha\":\"06-09-2021 12:00:00\",\"nweek\":36,\"region\":\"MOQUEGUA\",\"avgTest\":2832.68,\"incid_100\":26.82,\"positividad\":0.97,\"uci\":53.33,\"fall_100\":4.05,\"rt\":0.21,\"fallScore\":2.0,\"uciScore\":1.0,\"incidScore\":1.0,\"rtScore\":1.0,\"positScore\":1.0,\"poblacion\":197622.0,\"testScore\":1.0,\"score\":1.0,\"valScore\":18.0,\"camasCovid\":10.24},{\"id\":5551,\"fechaCreacion\":\"13-09-2021 02:49:31\",\"fecha\":\"06-09-2021 12:00:00\",\"nweek\":36,\"region\":\"PASCO\",\"avgTest\":1154.97,\"incid_100\":24.12,\"positividad\":2.17,\"uci\":3.23,\"fall_100\":2.04,\"rt\":0.76,\"fallScore\":2.0,\"uciScore\":1.0,\"incidScore\":1.0,\"rtScore\":2.0,\"positScore\":1.0,\"poblacion\":294380.0,\"testScore\":1.0,\"score\":1.0,\"valScore\":20.0,\"camasCovid\":3.59},{\"id\":5553,\"fechaCreacion\":\"13-09-2021 02:49:31\",\"fecha\":\"06-09-2021 12:00:00\",\"nweek\":36,\"region\":\"PIURA\",\"avgTest\":396.05,\"incid_100\":16.43,\"positividad\":4.23,\"uci\":39.45,\"fall_100\":0.43,\"rt\":0.91,\"fallScore\":1.0,\"uciScore\":1.0,\"incidScore\":1.0,\"rtScore\":2.0,\"positScore\":1.0,\"poblacion\":2069446.0,\"testScore\":3.0,\"score\":1.0,\"valScore\":18.0,\"camasCovid\":13.51},{\"id\":5555,\"fechaCreacion\":\"13-09-2021 02:49:31\",\"fecha\":\"06-09-2021 12:00:00\",\"nweek\":36,\"region\":\"PUNO\",\"avgTest\":367.08,\"incid_100\":20.48,\"positividad\":5.62,\"uci\":73.17,\"fall_100\":0.86,\"rt\":1.03,\"fallScore\":1.0,\"uciScore\":2.0,\"incidScore\":1.0,\"rtScore\":2.0,\"positScore\":1.0,\"poblacion\":1279290.0,\"testScore\":3.0,\"score\":1.0,\"valScore\":21.0,\"camasCovid\":20.82},{\"id\":5557,\"fechaCreacion\":\"13-09-2021 02:49:31\",\"fecha\":\"06-09-2021 12:00:00\",\"nweek\":36,\"region\":\"SAN MARTIN\",\"avgTest\":222.28,\"incid_100\":7.98,\"positividad\":3.81,\"uci\":24.56,\"fall_100\":0.83,\"rt\":0.33,\"fallScore\":1.0,\"uciScore\":1.0,\"incidScore\":1.0,\"rtScore\":1.0,\"positScore\":1.0,\"poblacion\":965432.0,\"testScore\":4.0,\"score\":1.0,\"valScore\":17.0,\"camasCovid\":5.14},{\"id\":5559,\"fechaCreacion\":\"13-09-2021 02:49:31\",\"fecha\":\"06-09-2021 12:00:00\",\"nweek\":36,\"region\":\"TACNA\",\"avgTest\":540.59,\"incid_100\":12.39,\"positividad\":2.3,\"uci\":20.59,\"fall_100\":1.58,\"rt\":0.23,\"fallScore\":1.0,\"uciScore\":1.0,\"incidScore\":1.0,\"rtScore\":1.0,\"positScore\":1.0,\"poblacion\":379400.0,\"testScore\":2.0,\"score\":1.0,\"valScore\":15.0,\"camasCovid\":2.34},{\"id\":5561,\"fechaCreacion\":\"13-09-2021 02:49:31\",\"fecha\":\"06-09-2021 12:00:00\",\"nweek\":36,\"region\":\"TUMBES\",\"avgTest\":1578.41,\"incid_100\":172.51,\"positividad\":9.69,\"uci\":47.06,\"fall_100\":4.03,\"rt\":1.11,\"fallScore\":2.0,\"uciScore\":1.0,\"incidScore\":4.0,\"rtScore\":3.0,\"positScore\":1.0,\"poblacion\":248097.0,\"testScore\":1.0,\"score\":1.0,\"valScore\":29.5,\"camasCovid\":5.19},{\"id\":5563,\"fechaCreacion\":\"13-09-2021 02:49:31\",\"fecha\":\"06-09-2021 12:00:00\",\"nweek\":36,\"region\":\"UCAYALI\",\"avgTest\":238.28,\"incid_100\":4.9,\"positividad\":2.03,\"uci\":24.32,\"fall_100\":1.58,\"rt\":0.64,\"fallScore\":1.0,\"uciScore\":1.0,\"incidScore\":1.0,\"rtScore\":1.0,\"positScore\":1.0,\"poblacion\":632861.0,\"testScore\":3.0,\"score\":1.0,\"valScore\":16.0,\"camasCovid\":12.95}]}]\n"
     ]
    }
   ],
   "source": [
    "conn = http.client.HTTPSConnection(\"open-covid-api-vwgk4ckqbq-uk.a.run.app\")\n",
    "payload = ''\n",
    "headers = {}\n",
    "conn.request(\"GET\", \"/api/semaforo?fecha=06-09-2021\", payload, headers)\n",
    "res = conn.getresponse()\n",
    "data = res.read()\n",
    "print(data.decode(\"utf-8\"))"
   ]
  },
  {
   "cell_type": "code",
   "execution_count": null,
   "id": "c999e6b1-25d0-4732-9458-5d64eebecfbb",
   "metadata": {},
   "outputs": [],
   "source": []
  }
 ],
 "metadata": {
  "kernelspec": {
   "display_name": "Python 3 (ipykernel)",
   "language": "python",
   "name": "python3"
  },
  "language_info": {
   "codemirror_mode": {
    "name": "ipython",
    "version": 3
   },
   "file_extension": ".py",
   "mimetype": "text/x-python",
   "name": "python",
   "nbconvert_exporter": "python",
   "pygments_lexer": "ipython3",
   "version": "3.7.3"
  }
 },
 "nbformat": 4,
 "nbformat_minor": 5
}
